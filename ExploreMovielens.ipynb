{
 "cells": [
  {
   "cell_type": "markdown",
   "metadata": {},
   "source": [
    "This notebook has some exploration code for getting correct values for test cases etc."
   ]
  },
  {
   "cell_type": "code",
   "execution_count": 1,
   "metadata": {},
   "outputs": [
    {
     "name": "stderr",
     "output_type": "stream",
     "text": [
      "-- Attaching packages --------------------------------------- tidyverse 1.2.1 --\n",
      "v ggplot2 2.2.1     v purrr   0.2.4\n",
      "v tibble  1.4.1     v dplyr   0.7.4\n",
      "v tidyr   0.7.2     v stringr 1.2.0\n",
      "v readr   1.1.1     v forcats 0.2.0\n",
      "-- Conflicts ------------------------------------------ tidyverse_conflicts() --\n",
      "x dplyr::filter() masks stats::filter()\n",
      "x dplyr::lag()    masks stats::lag()\n"
     ]
    }
   ],
   "source": [
    "library(tidyverse)"
   ]
  },
  {
   "cell_type": "code",
   "execution_count": 4,
   "metadata": {},
   "outputs": [
    {
     "name": "stderr",
     "output_type": "stream",
     "text": [
      "Parsed with column specification:\n",
      "cols(\n",
      "  userId = col_integer(),\n",
      "  movieId = col_integer(),\n",
      "  rating = col_double(),\n",
      "  timestamp = col_integer()\n",
      ")\n"
     ]
    },
    {
     "data": {
      "text/html": [
       "<table>\n",
       "<thead><tr><th scope=col>user</th><th scope=col>item</th><th scope=col>rating</th><th scope=col>timestamp</th></tr></thead>\n",
       "<tbody>\n",
       "\t<tr><td>1         </td><td>  31      </td><td>2.5       </td><td>1260759144</td></tr>\n",
       "\t<tr><td>1         </td><td>1029      </td><td>3.0       </td><td>1260759179</td></tr>\n",
       "\t<tr><td>1         </td><td>1061      </td><td>3.0       </td><td>1260759182</td></tr>\n",
       "\t<tr><td>1         </td><td>1129      </td><td>2.0       </td><td>1260759185</td></tr>\n",
       "\t<tr><td>1         </td><td>1172      </td><td>4.0       </td><td>1260759205</td></tr>\n",
       "\t<tr><td>1         </td><td>1263      </td><td>2.0       </td><td>1260759151</td></tr>\n",
       "</tbody>\n",
       "</table>\n"
      ],
      "text/latex": [
       "\\begin{tabular}{r|llll}\n",
       " user & item & rating & timestamp\\\\\n",
       "\\hline\n",
       "\t 1          &   31       & 2.5        & 1260759144\\\\\n",
       "\t 1          & 1029       & 3.0        & 1260759179\\\\\n",
       "\t 1          & 1061       & 3.0        & 1260759182\\\\\n",
       "\t 1          & 1129       & 2.0        & 1260759185\\\\\n",
       "\t 1          & 1172       & 4.0        & 1260759205\\\\\n",
       "\t 1          & 1263       & 2.0        & 1260759151\\\\\n",
       "\\end{tabular}\n"
      ],
      "text/markdown": [
       "\n",
       "user | item | rating | timestamp | \n",
       "|---|---|---|---|---|---|\n",
       "| 1          |   31       | 2.5        | 1260759144 | \n",
       "| 1          | 1029       | 3.0        | 1260759179 | \n",
       "| 1          | 1061       | 3.0        | 1260759182 | \n",
       "| 1          | 1129       | 2.0        | 1260759185 | \n",
       "| 1          | 1172       | 4.0        | 1260759205 | \n",
       "| 1          | 1263       | 2.0        | 1260759151 | \n",
       "\n",
       "\n"
      ],
      "text/plain": [
       "  user item rating timestamp \n",
       "1 1      31 2.5    1260759144\n",
       "2 1    1029 3.0    1260759179\n",
       "3 1    1061 3.0    1260759182\n",
       "4 1    1129 2.0    1260759185\n",
       "5 1    1172 4.0    1260759205\n",
       "6 1    1263 2.0    1260759151"
      ]
     },
     "metadata": {},
     "output_type": "display_data"
    }
   ],
   "source": [
    "ratings = read_csv('ml-latest-small/ratings.csv') %>%\n",
    "    rename(user=userId, item=movieId)\n",
    "head(ratings)"
   ]
  },
  {
   "cell_type": "code",
   "execution_count": 5,
   "metadata": {},
   "outputs": [
    {
     "data": {
      "text/html": [
       "<table>\n",
       "<thead><tr><th scope=col>item</th><th scope=col>RatingCount</th><th scope=col>MeanRating</th></tr></thead>\n",
       "<tbody>\n",
       "\t<tr><td> 356    </td><td>341     </td><td>4.054252</td></tr>\n",
       "\t<tr><td> 296    </td><td>324     </td><td>4.256173</td></tr>\n",
       "\t<tr><td> 318    </td><td>311     </td><td>4.487138</td></tr>\n",
       "\t<tr><td> 593    </td><td>304     </td><td>4.138158</td></tr>\n",
       "\t<tr><td> 260    </td><td>291     </td><td>4.221649</td></tr>\n",
       "\t<tr><td> 480    </td><td>274     </td><td>3.706204</td></tr>\n",
       "\t<tr><td>2571    </td><td>259     </td><td>4.183398</td></tr>\n",
       "\t<tr><td>   1    </td><td>247     </td><td>3.872470</td></tr>\n",
       "\t<tr><td> 527    </td><td>244     </td><td>4.303279</td></tr>\n",
       "\t<tr><td> 589    </td><td>237     </td><td>4.006329</td></tr>\n",
       "</tbody>\n",
       "</table>\n"
      ],
      "text/latex": [
       "\\begin{tabular}{r|lll}\n",
       " item & RatingCount & MeanRating\\\\\n",
       "\\hline\n",
       "\t  356     & 341      & 4.054252\\\\\n",
       "\t  296     & 324      & 4.256173\\\\\n",
       "\t  318     & 311      & 4.487138\\\\\n",
       "\t  593     & 304      & 4.138158\\\\\n",
       "\t  260     & 291      & 4.221649\\\\\n",
       "\t  480     & 274      & 3.706204\\\\\n",
       "\t 2571     & 259      & 4.183398\\\\\n",
       "\t    1     & 247      & 3.872470\\\\\n",
       "\t  527     & 244      & 4.303279\\\\\n",
       "\t  589     & 237      & 4.006329\\\\\n",
       "\\end{tabular}\n"
      ],
      "text/markdown": [
       "\n",
       "item | RatingCount | MeanRating | \n",
       "|---|---|---|---|---|---|---|---|---|---|\n",
       "|  356     | 341      | 4.054252 | \n",
       "|  296     | 324      | 4.256173 | \n",
       "|  318     | 311      | 4.487138 | \n",
       "|  593     | 304      | 4.138158 | \n",
       "|  260     | 291      | 4.221649 | \n",
       "|  480     | 274      | 3.706204 | \n",
       "| 2571     | 259      | 4.183398 | \n",
       "|    1     | 247      | 3.872470 | \n",
       "|  527     | 244      | 4.303279 | \n",
       "|  589     | 237      | 4.006329 | \n",
       "\n",
       "\n"
      ],
      "text/plain": [
       "   item RatingCount MeanRating\n",
       "1   356 341         4.054252  \n",
       "2   296 324         4.256173  \n",
       "3   318 311         4.487138  \n",
       "4   593 304         4.138158  \n",
       "5   260 291         4.221649  \n",
       "6   480 274         3.706204  \n",
       "7  2571 259         4.183398  \n",
       "8     1 247         3.872470  \n",
       "9   527 244         4.303279  \n",
       "10  589 237         4.006329  "
      ]
     },
     "metadata": {},
     "output_type": "display_data"
    }
   ],
   "source": [
    "item_stats = ratings %>% group_by(item) %>%\n",
    "    summarize(RatingCount=n(), MeanRating=mean(rating))\n",
    "item_stats %>% arrange(-RatingCount) %>% head(10)"
   ]
  },
  {
   "cell_type": "code",
   "execution_count": 15,
   "metadata": {},
   "outputs": [
    {
     "data": {
      "text/html": [
       "<table>\n",
       "<thead><tr><th scope=col>user</th><th scope=col>RatingCount</th><th scope=col>MeanRating</th></tr></thead>\n",
       "<tbody>\n",
       "\t<tr><td>1       </td><td> 20     </td><td>2.550000</td></tr>\n",
       "\t<tr><td>2       </td><td> 76     </td><td>3.486842</td></tr>\n",
       "\t<tr><td>3       </td><td> 51     </td><td>3.568627</td></tr>\n",
       "\t<tr><td>4       </td><td>204     </td><td>4.348039</td></tr>\n",
       "\t<tr><td>5       </td><td>100     </td><td>3.910000</td></tr>\n",
       "\t<tr><td>6       </td><td> 44     </td><td>3.261364</td></tr>\n",
       "</tbody>\n",
       "</table>\n"
      ],
      "text/latex": [
       "\\begin{tabular}{r|lll}\n",
       " user & RatingCount & MeanRating\\\\\n",
       "\\hline\n",
       "\t 1        &  20      & 2.550000\\\\\n",
       "\t 2        &  76      & 3.486842\\\\\n",
       "\t 3        &  51      & 3.568627\\\\\n",
       "\t 4        & 204      & 4.348039\\\\\n",
       "\t 5        & 100      & 3.910000\\\\\n",
       "\t 6        &  44      & 3.261364\\\\\n",
       "\\end{tabular}\n"
      ],
      "text/markdown": [
       "\n",
       "user | RatingCount | MeanRating | \n",
       "|---|---|---|---|---|---|\n",
       "| 1        |  20      | 2.550000 | \n",
       "| 2        |  76      | 3.486842 | \n",
       "| 3        |  51      | 3.568627 | \n",
       "| 4        | 204      | 4.348039 | \n",
       "| 5        | 100      | 3.910000 | \n",
       "| 6        |  44      | 3.261364 | \n",
       "\n",
       "\n"
      ],
      "text/plain": [
       "  user RatingCount MeanRating\n",
       "1 1     20         2.550000  \n",
       "2 2     76         3.486842  \n",
       "3 3     51         3.568627  \n",
       "4 4    204         4.348039  \n",
       "5 5    100         3.910000  \n",
       "6 6     44         3.261364  "
      ]
     },
     "metadata": {},
     "output_type": "display_data"
    }
   ],
   "source": [
    "user_stats = ratings %>% group_by(user) %>%\n",
    "    summarize(RatingCount=n(), MeanRating=mean(rating))\n",
    "head(user_stats)"
   ]
  },
  {
   "cell_type": "markdown",
   "metadata": {},
   "source": [
    "Let's get user-normed ratings."
   ]
  },
  {
   "cell_type": "code",
   "execution_count": 16,
   "metadata": {},
   "outputs": [
    {
     "name": "stderr",
     "output_type": "stream",
     "text": [
      "Joining, by = \"user\"\n"
     ]
    },
    {
     "data": {
      "text/html": [
       "<table>\n",
       "<thead><tr><th scope=col>user</th><th scope=col>item</th><th scope=col>rating</th></tr></thead>\n",
       "<tbody>\n",
       "\t<tr><td>1    </td><td>  31 </td><td>-0.05</td></tr>\n",
       "\t<tr><td>1    </td><td>1029 </td><td> 0.45</td></tr>\n",
       "\t<tr><td>1    </td><td>1061 </td><td> 0.45</td></tr>\n",
       "\t<tr><td>1    </td><td>1129 </td><td>-0.55</td></tr>\n",
       "\t<tr><td>1    </td><td>1172 </td><td> 1.45</td></tr>\n",
       "\t<tr><td>1    </td><td>1263 </td><td>-0.55</td></tr>\n",
       "</tbody>\n",
       "</table>\n"
      ],
      "text/latex": [
       "\\begin{tabular}{r|lll}\n",
       " user & item & rating\\\\\n",
       "\\hline\n",
       "\t 1     &   31  & -0.05\\\\\n",
       "\t 1     & 1029  &  0.45\\\\\n",
       "\t 1     & 1061  &  0.45\\\\\n",
       "\t 1     & 1129  & -0.55\\\\\n",
       "\t 1     & 1172  &  1.45\\\\\n",
       "\t 1     & 1263  & -0.55\\\\\n",
       "\\end{tabular}\n"
      ],
      "text/markdown": [
       "\n",
       "user | item | rating | \n",
       "|---|---|---|---|---|---|\n",
       "| 1     |   31  | -0.05 | \n",
       "| 1     | 1029  |  0.45 | \n",
       "| 1     | 1061  |  0.45 | \n",
       "| 1     | 1129  | -0.55 | \n",
       "| 1     | 1172  |  1.45 | \n",
       "| 1     | 1263  | -0.55 | \n",
       "\n",
       "\n"
      ],
      "text/plain": [
       "  user item rating\n",
       "1 1      31 -0.05 \n",
       "2 1    1029  0.45 \n",
       "3 1    1061  0.45 \n",
       "4 1    1129 -0.55 \n",
       "5 1    1172  1.45 \n",
       "6 1    1263 -0.55 "
      ]
     },
     "metadata": {},
     "output_type": "display_data"
    }
   ],
   "source": [
    "user_normed = ratings %>% inner_join(user_stats %>% select(user, MeanRating)) %>%\n",
    "    mutate(rating = rating - MeanRating) %>%\n",
    "    select(user, item, rating)\n",
    "head(user_normed)"
   ]
  },
  {
   "cell_type": "markdown",
   "metadata": {},
   "source": [
    "## User-User CF test cases"
   ]
  },
  {
   "cell_type": "markdown",
   "metadata": {},
   "source": [
    "First test case: user 4, item 1016."
   ]
  },
  {
   "cell_type": "markdown",
   "metadata": {},
   "source": [
    "Get info for users rating 1016, so we can compute correct CF results."
   ]
  },
  {
   "cell_type": "code",
   "execution_count": 27,
   "metadata": {},
   "outputs": [
    {
     "name": "stderr",
     "output_type": "stream",
     "text": [
      "Joining, by = \"user\"\n"
     ]
    },
    {
     "name": "stdout",
     "output_type": "stream",
     "text": [
      "# A tibble: 5,262 x 4\n",
      "# Groups: user [10]\n",
      "    user  item rating      nr\n",
      "   <int> <int>  <dbl>   <dbl>\n",
      " 1     4    10 -0.348 -0.0258\n",
      " 2     4    34  0.652  0.0483\n",
      " 3     4   112  0.652  0.0483\n",
      " 4     4   141  0.652  0.0483\n",
      " 5     4   153 -0.348 -0.0258\n",
      " 6     4   173 -1.35  -0.0998\n",
      " 7     4   185 -1.35  -0.0998\n",
      " 8     4   260  0.652  0.0483\n",
      " 9     4   289 -0.348 -0.0258\n",
      "10     4   296  0.652  0.0483\n",
      "# ... with 5,252 more rows\n"
     ]
    }
   ],
   "source": [
    "lim_rates = ratings %>% filter(item == 1016) %>% select(user) %>%\n",
    "    inner_join(user_normed) %>%\n",
    "    group_by(user) %>%\n",
    "    mutate(nr=rating / sqrt(sum(rating * rating)))\n",
    "print(lim_rates)"
   ]
  },
  {
   "cell_type": "code",
   "execution_count": 30,
   "metadata": {},
   "outputs": [
    {
     "name": "stderr",
     "output_type": "stream",
     "text": [
      "Joining, by = \"item\"\n"
     ]
    },
    {
     "name": "stdout",
     "output_type": "stream",
     "text": [
      "# A tibble: 90 x 3\n",
      "# Groups: u1 [?]\n",
      "      u1    u2    sim\n",
      "   <int> <int>  <dbl>\n",
      " 1     4    99 0.0311\n",
      " 2     4   239 0.0644\n",
      " 3     4   311 0.0225\n",
      " 4     4   358 0.0982\n",
      " 5     4   518 0.114 \n",
      " 6     4   551 0.0100\n",
      " 7     4   564 0.0437\n",
      " 8     4   603 0.0614\n",
      " 9     4   646 0.0250\n",
      "10    99     4 0.0311\n",
      "# ... with 80 more rows\n"
     ]
    }
   ],
   "source": [
    "sims = lim_rates %>% select(u1=user, item, u1nr=nr) %>%\n",
    "    inner_join(lim_rates %>% select(u2=user, item, u2nr=nr)) %>%\n",
    "    filter(u1 != u2) %>%\n",
    "    group_by(u1, u2) %>%\n",
    "    summarize(sim=sum(u1nr * u2nr))\n",
    "print(sims)"
   ]
  },
  {
   "cell_type": "code",
   "execution_count": 31,
   "metadata": {},
   "outputs": [
    {
     "name": "stderr",
     "output_type": "stream",
     "text": [
      "Joining, by = \"user\"\n"
     ]
    },
    {
     "data": {
      "text/html": [
       "<table>\n",
       "<thead><tr><th scope=col>u1</th><th scope=col>user</th><th scope=col>sim</th><th scope=col>item</th><th scope=col>rating</th></tr></thead>\n",
       "<tbody>\n",
       "\t<tr><td>4         </td><td> 99       </td><td>0.03108641</td><td>1016      </td><td>-1.4308511</td></tr>\n",
       "\t<tr><td>4         </td><td>239       </td><td>0.06438670</td><td>1016      </td><td>-0.7079038</td></tr>\n",
       "\t<tr><td>4         </td><td>311       </td><td>0.02249353</td><td>1016      </td><td>-1.0063788</td></tr>\n",
       "\t<tr><td>4         </td><td>358       </td><td>0.09821867</td><td>1016      </td><td>-0.1831442</td></tr>\n",
       "\t<tr><td>4         </td><td>518       </td><td>0.11448729</td><td>1016      </td><td>-1.5728430</td></tr>\n",
       "\t<tr><td>4         </td><td>551       </td><td>0.01003771</td><td>1016      </td><td> 0.6000000</td></tr>\n",
       "\t<tr><td>4         </td><td>564       </td><td>0.04373835</td><td>1016      </td><td> 0.4475375</td></tr>\n",
       "\t<tr><td>4         </td><td>603       </td><td>0.06135812</td><td>1016      </td><td>-0.8684211</td></tr>\n",
       "\t<tr><td>4         </td><td>646       </td><td>0.02495728</td><td>1016      </td><td>-0.1301775</td></tr>\n",
       "</tbody>\n",
       "</table>\n"
      ],
      "text/latex": [
       "\\begin{tabular}{r|lllll}\n",
       " u1 & user & sim & item & rating\\\\\n",
       "\\hline\n",
       "\t 4          &  99        & 0.03108641 & 1016       & -1.4308511\\\\\n",
       "\t 4          & 239        & 0.06438670 & 1016       & -0.7079038\\\\\n",
       "\t 4          & 311        & 0.02249353 & 1016       & -1.0063788\\\\\n",
       "\t 4          & 358        & 0.09821867 & 1016       & -0.1831442\\\\\n",
       "\t 4          & 518        & 0.11448729 & 1016       & -1.5728430\\\\\n",
       "\t 4          & 551        & 0.01003771 & 1016       &  0.6000000\\\\\n",
       "\t 4          & 564        & 0.04373835 & 1016       &  0.4475375\\\\\n",
       "\t 4          & 603        & 0.06135812 & 1016       & -0.8684211\\\\\n",
       "\t 4          & 646        & 0.02495728 & 1016       & -0.1301775\\\\\n",
       "\\end{tabular}\n"
      ],
      "text/markdown": [
       "\n",
       "u1 | user | sim | item | rating | \n",
       "|---|---|---|---|---|---|---|---|---|\n",
       "| 4          |  99        | 0.03108641 | 1016       | -1.4308511 | \n",
       "| 4          | 239        | 0.06438670 | 1016       | -0.7079038 | \n",
       "| 4          | 311        | 0.02249353 | 1016       | -1.0063788 | \n",
       "| 4          | 358        | 0.09821867 | 1016       | -0.1831442 | \n",
       "| 4          | 518        | 0.11448729 | 1016       | -1.5728430 | \n",
       "| 4          | 551        | 0.01003771 | 1016       |  0.6000000 | \n",
       "| 4          | 564        | 0.04373835 | 1016       |  0.4475375 | \n",
       "| 4          | 603        | 0.06135812 | 1016       | -0.8684211 | \n",
       "| 4          | 646        | 0.02495728 | 1016       | -0.1301775 | \n",
       "\n",
       "\n"
      ],
      "text/plain": [
       "  u1 user sim        item rating    \n",
       "1 4   99  0.03108641 1016 -1.4308511\n",
       "2 4  239  0.06438670 1016 -0.7079038\n",
       "3 4  311  0.02249353 1016 -1.0063788\n",
       "4 4  358  0.09821867 1016 -0.1831442\n",
       "5 4  518  0.11448729 1016 -1.5728430\n",
       "6 4  551  0.01003771 1016  0.6000000\n",
       "7 4  564  0.04373835 1016  0.4475375\n",
       "8 4  603  0.06135812 1016 -0.8684211\n",
       "9 4  646  0.02495728 1016 -0.1301775"
      ]
     },
     "metadata": {},
     "output_type": "display_data"
    }
   ],
   "source": [
    "basis = sims %>% filter(u1 == 4) %>%\n",
    "    select(u1, user=u2, sim) %>%\n",
    "    inner_join(user_normed) %>%\n",
    "    filter(item == 1016)\n",
    "basis"
   ]
  },
  {
   "cell_type": "code",
   "execution_count": 34,
   "metadata": {},
   "outputs": [
    {
     "data": {
      "text/html": [
       "3.62221550680778"
      ],
      "text/latex": [
       "3.62221550680778"
      ],
      "text/markdown": [
       "3.62221550680778"
      ],
      "text/plain": [
       "[1] 3.622216"
      ]
     },
     "metadata": {},
     "output_type": "display_data"
    }
   ],
   "source": [
    "sum(basis$sim * basis$rating) / sum(basis$sim) + filter(user_stats, user == 4)$MeanRating"
   ]
  },
  {
   "cell_type": "markdown",
   "metadata": {},
   "source": [
    "### Find items with few common users to 4"
   ]
  },
  {
   "cell_type": "code",
   "execution_count": 35,
   "metadata": {},
   "outputs": [],
   "source": [
    "user4 = user_normed %>% filter(user == 4)"
   ]
  },
  {
   "cell_type": "code",
   "execution_count": 37,
   "metadata": {},
   "outputs": [
    {
     "name": "stderr",
     "output_type": "stream",
     "text": [
      "Joining, by = \"item\"\n"
     ]
    },
    {
     "data": {
      "text/html": [
       "<table>\n",
       "<thead><tr><th scope=col>item</th><th scope=col>UserCount</th></tr></thead>\n",
       "<tbody>\n",
       "\t<tr><td>2091</td><td> 2  </td></tr>\n",
       "\t<tr><td>2659</td><td> 2  </td></tr>\n",
       "\t<tr><td>2903</td><td> 2  </td></tr>\n",
       "\t<tr><td>2902</td><td> 3  </td></tr>\n",
       "\t<tr><td>1858</td><td> 5  </td></tr>\n",
       "\t<tr><td>3040</td><td> 5  </td></tr>\n",
       "\t<tr><td>3208</td><td> 5  </td></tr>\n",
       "\t<tr><td>1332</td><td> 6  </td></tr>\n",
       "\t<tr><td>2102</td><td> 6  </td></tr>\n",
       "\t<tr><td>2263</td><td> 7  </td></tr>\n",
       "\t<tr><td> 464</td><td> 8  </td></tr>\n",
       "\t<tr><td>1011</td><td> 8  </td></tr>\n",
       "\t<tr><td>2034</td><td> 8  </td></tr>\n",
       "\t<tr><td>2877</td><td> 8  </td></tr>\n",
       "\t<tr><td>4006</td><td> 8  </td></tr>\n",
       "\t<tr><td>1016</td><td> 9  </td></tr>\n",
       "\t<tr><td>2822</td><td> 9  </td></tr>\n",
       "\t<tr><td>2867</td><td> 9  </td></tr>\n",
       "\t<tr><td>3251</td><td> 9  </td></tr>\n",
       "\t<tr><td>3265</td><td> 9  </td></tr>\n",
       "\t<tr><td>2348</td><td>10  </td></tr>\n",
       "\t<tr><td>3071</td><td>10  </td></tr>\n",
       "\t<tr><td>2033</td><td>11  </td></tr>\n",
       "\t<tr><td>2551</td><td>11  </td></tr>\n",
       "\t<tr><td>3169</td><td>12  </td></tr>\n",
       "\t<tr><td> 289</td><td>13  </td></tr>\n",
       "\t<tr><td>2454</td><td>13  </td></tr>\n",
       "\t<tr><td>1194</td><td>14  </td></tr>\n",
       "\t<tr><td>1334</td><td>14  </td></tr>\n",
       "\t<tr><td>2014</td><td>14  </td></tr>\n",
       "\t<tr><td>...</td><td>...</td></tr>\n",
       "\t<tr><td>1089</td><td>131 </td></tr>\n",
       "\t<tr><td>2918</td><td>132 </td></tr>\n",
       "\t<tr><td>2628</td><td>137 </td></tr>\n",
       "\t<tr><td>1136</td><td>144 </td></tr>\n",
       "\t<tr><td> 541</td><td>145 </td></tr>\n",
       "\t<tr><td>1291</td><td>146 </td></tr>\n",
       "\t<tr><td>2716</td><td>146 </td></tr>\n",
       "\t<tr><td>  34</td><td>147 </td></tr>\n",
       "\t<tr><td>1073</td><td>147 </td></tr>\n",
       "\t<tr><td>1036</td><td>150 </td></tr>\n",
       "\t<tr><td> 367</td><td>156 </td></tr>\n",
       "\t<tr><td>1240</td><td>157 </td></tr>\n",
       "\t<tr><td>1097</td><td>159 </td></tr>\n",
       "\t<tr><td>1197</td><td>162 </td></tr>\n",
       "\t<tr><td>1265</td><td>164 </td></tr>\n",
       "\t<tr><td>1580</td><td>189 </td></tr>\n",
       "\t<tr><td> 380</td><td>197 </td></tr>\n",
       "\t<tr><td> 364</td><td>199 </td></tr>\n",
       "\t<tr><td> 858</td><td>199 </td></tr>\n",
       "\t<tr><td> 590</td><td>201 </td></tr>\n",
       "\t<tr><td> 588</td><td>214 </td></tr>\n",
       "\t<tr><td>1210</td><td>216 </td></tr>\n",
       "\t<tr><td>1198</td><td>219 </td></tr>\n",
       "\t<tr><td>1270</td><td>225 </td></tr>\n",
       "\t<tr><td>1196</td><td>233 </td></tr>\n",
       "\t<tr><td> 589</td><td>236 </td></tr>\n",
       "\t<tr><td> 480</td><td>273 </td></tr>\n",
       "\t<tr><td> 260</td><td>290 </td></tr>\n",
       "\t<tr><td> 296</td><td>323 </td></tr>\n",
       "\t<tr><td> 356</td><td>340 </td></tr>\n",
       "</tbody>\n",
       "</table>\n"
      ],
      "text/latex": [
       "\\begin{tabular}{r|ll}\n",
       " item & UserCount\\\\\n",
       "\\hline\n",
       "\t 2091 &  2  \\\\\n",
       "\t 2659 &  2  \\\\\n",
       "\t 2903 &  2  \\\\\n",
       "\t 2902 &  3  \\\\\n",
       "\t 1858 &  5  \\\\\n",
       "\t 3040 &  5  \\\\\n",
       "\t 3208 &  5  \\\\\n",
       "\t 1332 &  6  \\\\\n",
       "\t 2102 &  6  \\\\\n",
       "\t 2263 &  7  \\\\\n",
       "\t  464 &  8  \\\\\n",
       "\t 1011 &  8  \\\\\n",
       "\t 2034 &  8  \\\\\n",
       "\t 2877 &  8  \\\\\n",
       "\t 4006 &  8  \\\\\n",
       "\t 1016 &  9  \\\\\n",
       "\t 2822 &  9  \\\\\n",
       "\t 2867 &  9  \\\\\n",
       "\t 3251 &  9  \\\\\n",
       "\t 3265 &  9  \\\\\n",
       "\t 2348 & 10  \\\\\n",
       "\t 3071 & 10  \\\\\n",
       "\t 2033 & 11  \\\\\n",
       "\t 2551 & 11  \\\\\n",
       "\t 3169 & 12  \\\\\n",
       "\t  289 & 13  \\\\\n",
       "\t 2454 & 13  \\\\\n",
       "\t 1194 & 14  \\\\\n",
       "\t 1334 & 14  \\\\\n",
       "\t 2014 & 14  \\\\\n",
       "\t ... & ...\\\\\n",
       "\t 1089 & 131 \\\\\n",
       "\t 2918 & 132 \\\\\n",
       "\t 2628 & 137 \\\\\n",
       "\t 1136 & 144 \\\\\n",
       "\t  541 & 145 \\\\\n",
       "\t 1291 & 146 \\\\\n",
       "\t 2716 & 146 \\\\\n",
       "\t   34 & 147 \\\\\n",
       "\t 1073 & 147 \\\\\n",
       "\t 1036 & 150 \\\\\n",
       "\t  367 & 156 \\\\\n",
       "\t 1240 & 157 \\\\\n",
       "\t 1097 & 159 \\\\\n",
       "\t 1197 & 162 \\\\\n",
       "\t 1265 & 164 \\\\\n",
       "\t 1580 & 189 \\\\\n",
       "\t  380 & 197 \\\\\n",
       "\t  364 & 199 \\\\\n",
       "\t  858 & 199 \\\\\n",
       "\t  590 & 201 \\\\\n",
       "\t  588 & 214 \\\\\n",
       "\t 1210 & 216 \\\\\n",
       "\t 1198 & 219 \\\\\n",
       "\t 1270 & 225 \\\\\n",
       "\t 1196 & 233 \\\\\n",
       "\t  589 & 236 \\\\\n",
       "\t  480 & 273 \\\\\n",
       "\t  260 & 290 \\\\\n",
       "\t  296 & 323 \\\\\n",
       "\t  356 & 340 \\\\\n",
       "\\end{tabular}\n"
      ],
      "text/markdown": [
       "\n",
       "item | UserCount | \n",
       "|---|---|---|---|---|---|---|---|---|---|---|---|---|---|---|---|---|---|---|---|---|---|---|---|---|---|---|---|---|---|---|---|---|---|---|---|---|---|---|---|---|---|---|---|---|---|---|---|---|---|---|---|---|---|---|---|---|---|---|---|---|\n",
       "| 2091 |  2   | \n",
       "| 2659 |  2   | \n",
       "| 2903 |  2   | \n",
       "| 2902 |  3   | \n",
       "| 1858 |  5   | \n",
       "| 3040 |  5   | \n",
       "| 3208 |  5   | \n",
       "| 1332 |  6   | \n",
       "| 2102 |  6   | \n",
       "| 2263 |  7   | \n",
       "|  464 |  8   | \n",
       "| 1011 |  8   | \n",
       "| 2034 |  8   | \n",
       "| 2877 |  8   | \n",
       "| 4006 |  8   | \n",
       "| 1016 |  9   | \n",
       "| 2822 |  9   | \n",
       "| 2867 |  9   | \n",
       "| 3251 |  9   | \n",
       "| 3265 |  9   | \n",
       "| 2348 | 10   | \n",
       "| 3071 | 10   | \n",
       "| 2033 | 11   | \n",
       "| 2551 | 11   | \n",
       "| 3169 | 12   | \n",
       "|  289 | 13   | \n",
       "| 2454 | 13   | \n",
       "| 1194 | 14   | \n",
       "| 1334 | 14   | \n",
       "| 2014 | 14   | \n",
       "| ... | ... | \n",
       "| 1089 | 131  | \n",
       "| 2918 | 132  | \n",
       "| 2628 | 137  | \n",
       "| 1136 | 144  | \n",
       "|  541 | 145  | \n",
       "| 1291 | 146  | \n",
       "| 2716 | 146  | \n",
       "|   34 | 147  | \n",
       "| 1073 | 147  | \n",
       "| 1036 | 150  | \n",
       "|  367 | 156  | \n",
       "| 1240 | 157  | \n",
       "| 1097 | 159  | \n",
       "| 1197 | 162  | \n",
       "| 1265 | 164  | \n",
       "| 1580 | 189  | \n",
       "|  380 | 197  | \n",
       "|  364 | 199  | \n",
       "|  858 | 199  | \n",
       "|  590 | 201  | \n",
       "|  588 | 214  | \n",
       "| 1210 | 216  | \n",
       "| 1198 | 219  | \n",
       "| 1270 | 225  | \n",
       "| 1196 | 233  | \n",
       "|  589 | 236  | \n",
       "|  480 | 273  | \n",
       "|  260 | 290  | \n",
       "|  296 | 323  | \n",
       "|  356 | 340  | \n",
       "\n",
       "\n"
      ],
      "text/plain": [
       "    item UserCount\n",
       "1   2091  2       \n",
       "2   2659  2       \n",
       "3   2903  2       \n",
       "4   2902  3       \n",
       "5   1858  5       \n",
       "6   3040  5       \n",
       "7   3208  5       \n",
       "8   1332  6       \n",
       "9   2102  6       \n",
       "10  2263  7       \n",
       "11   464  8       \n",
       "12  1011  8       \n",
       "13  2034  8       \n",
       "14  2877  8       \n",
       "15  4006  8       \n",
       "16  1016  9       \n",
       "17  2822  9       \n",
       "18  2867  9       \n",
       "19  3251  9       \n",
       "20  3265  9       \n",
       "21  2348 10       \n",
       "22  3071 10       \n",
       "23  2033 11       \n",
       "24  2551 11       \n",
       "25  3169 12       \n",
       "26   289 13       \n",
       "27  2454 13       \n",
       "28  1194 14       \n",
       "29  1334 14       \n",
       "30  2014 14       \n",
       "... ...  ...      \n",
       "174 1089 131      \n",
       "175 2918 132      \n",
       "176 2628 137      \n",
       "177 1136 144      \n",
       "178  541 145      \n",
       "179 1291 146      \n",
       "180 2716 146      \n",
       "181   34 147      \n",
       "182 1073 147      \n",
       "183 1036 150      \n",
       "184  367 156      \n",
       "185 1240 157      \n",
       "186 1097 159      \n",
       "187 1197 162      \n",
       "188 1265 164      \n",
       "189 1580 189      \n",
       "190  380 197      \n",
       "191  364 199      \n",
       "192  858 199      \n",
       "193  590 201      \n",
       "194  588 214      \n",
       "195 1210 216      \n",
       "196 1198 219      \n",
       "197 1270 225      \n",
       "198 1196 233      \n",
       "199  589 236      \n",
       "200  480 273      \n",
       "201  260 290      \n",
       "202  296 323      \n",
       "203  356 340      "
      ]
     },
     "metadata": {},
     "output_type": "display_data"
    }
   ],
   "source": [
    "user4 %>% select(item) %>% inner_join(user_normed) %>%\n",
    "    filter(user != 4) %>%\n",
    "    group_by(item) %>%\n",
    "    summarize(UserCount=n()) %>%\n",
    "    arrange(UserCount)"
   ]
  },
  {
   "cell_type": "code",
   "execution_count": null,
   "metadata": {},
   "outputs": [],
   "source": []
  }
 ],
 "metadata": {
  "kernelspec": {
   "display_name": "R",
   "language": "R",
   "name": "ir"
  },
  "language_info": {
   "codemirror_mode": "r",
   "file_extension": ".r",
   "mimetype": "text/x-r-source",
   "name": "R",
   "pygments_lexer": "r",
   "version": "3.4.3"
  }
 },
 "nbformat": 4,
 "nbformat_minor": 2
}
